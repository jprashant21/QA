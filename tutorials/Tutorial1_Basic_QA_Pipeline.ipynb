{
  "nbformat": 4,
  "nbformat_minor": 0,
  "metadata": {
    "kernelspec": {
      "display_name": "Python 3",
      "language": "python",
      "name": "python3"
    },
    "language_info": {
      "codemirror_mode": {
        "name": "ipython",
        "version": 3
      },
      "file_extension": ".py",
      "mimetype": "text/x-python",
      "name": "python",
      "nbconvert_exporter": "python",
      "pygments_lexer": "ipython3",
      "version": "3.7.6"
    },
    "colab": {
      "name": "Tutorial1_Basic_QA_Pipeline.ipynb",
      "provenance": [],
      "include_colab_link": true
    },
    "accelerator": "GPU"
  },
  "cells": [
    {
      "cell_type": "markdown",
      "metadata": {
        "id": "view-in-github",
        "colab_type": "text"
      },
      "source": [
        "<a href=\"https://colab.research.google.com/github/pradeepram80/QA/blob/main/tutorials/Tutorial1_Basic_QA_Pipeline.ipynb\" target=\"_parent\"><img src=\"https://colab.research.google.com/assets/colab-badge.svg\" alt=\"Open In Colab\"/></a>"
      ]
    },
    {
      "cell_type": "markdown",
      "metadata": {
        "id": "3T4Tv9V4zjbs"
      },
      "source": [
        "# QA System\n",
        "\n",
        "\n",
        "\n",
        "[![Open In Colab](https://colab.research.google.com/assets/colab-badge.svg)](https://colab.research.google.com/github/deepset-ai/haystack/blob/master/tutorials/Tutorial1_Basic_QA_Pipeline.ipynb)\n",
        "\n",
        "QA is a fun AI problem. Lets try it out on a few public documents using Haystack APIs\n"
      ]
    },
    {
      "cell_type": "markdown",
      "metadata": {
        "collapsed": false,
        "id": "MdSGLvtuzjby"
      },
      "source": [
        "### Prepare environment\n",
        "\n",
        "#### Colab: Enable the GPU runtime\n",
        "Make sure you enable the GPU runtime to experience decent speed in this tutorial.\n",
        "**Runtime -> Change Runtime type -> Hardware accelerator -> GPU**"
      ]
    },
    {
      "cell_type": "code",
      "metadata": {
        "pycharm": {
          "name": "#%%\n"
        },
        "id": "pb1HC-Swzjbz",
        "outputId": "bdda7372-4d58-4edc-e1a6-4709ac74646c",
        "colab": {
          "base_uri": "https://localhost:8080/"
        }
      },
      "source": [
        "# Make sure you have a GPU running\n",
        "!nvidia-smi"
      ],
      "execution_count": 1,
      "outputs": [
        {
          "output_type": "stream",
          "name": "stdout",
          "text": [
            "Sat Sep 11 21:54:39 2021       \n",
            "+-----------------------------------------------------------------------------+\n",
            "| NVIDIA-SMI 470.63.01    Driver Version: 460.32.03    CUDA Version: 11.2     |\n",
            "|-------------------------------+----------------------+----------------------+\n",
            "| GPU  Name        Persistence-M| Bus-Id        Disp.A | Volatile Uncorr. ECC |\n",
            "| Fan  Temp  Perf  Pwr:Usage/Cap|         Memory-Usage | GPU-Util  Compute M. |\n",
            "|                               |                      |               MIG M. |\n",
            "|===============================+======================+======================|\n",
            "|   0  Tesla K80           Off  | 00000000:00:04.0 Off |                    0 |\n",
            "| N/A   32C    P8    27W / 149W |      0MiB / 11441MiB |      0%      Default |\n",
            "|                               |                      |                  N/A |\n",
            "+-------------------------------+----------------------+----------------------+\n",
            "                                                                               \n",
            "+-----------------------------------------------------------------------------+\n",
            "| Processes:                                                                  |\n",
            "|  GPU   GI   CI        PID   Type   Process name                  GPU Memory |\n",
            "|        ID   ID                                                   Usage      |\n",
            "|=============================================================================|\n",
            "|  No running processes found                                                 |\n",
            "+-----------------------------------------------------------------------------+\n"
          ]
        }
      ]
    },
    {
      "cell_type": "code",
      "metadata": {
        "id": "j6r_v1LWzjb1",
        "outputId": "2ae9fb77-0767-4dd9-e6a0-cc291de5716b",
        "colab": {
          "base_uri": "https://localhost:8080/"
        }
      },
      "source": [
        "# Install the latest release of Haystack in your own environment \n",
        "#! pip install farm-haystack\n",
        "\n",
        "# Install the latest master of Haystack\n",
        "!pip install grpcio-tools==1.34.1\n",
        "!pip install git+https://github.com/deepset-ai/haystack.git\n"
      ],
      "execution_count": 1,
      "outputs": [
        {
          "output_type": "stream",
          "name": "stdout",
          "text": [
            "Requirement already satisfied: grpcio-tools==1.34.1 in /usr/local/lib/python3.7/dist-packages (1.34.1)\n",
            "Requirement already satisfied: protobuf<4.0dev,>=3.5.0.post1 in /usr/local/lib/python3.7/dist-packages (from grpcio-tools==1.34.1) (3.17.3)\n",
            "Requirement already satisfied: setuptools in /usr/local/lib/python3.7/dist-packages (from grpcio-tools==1.34.1) (57.4.0)\n",
            "Requirement already satisfied: grpcio>=1.34.1 in /usr/local/lib/python3.7/dist-packages (from grpcio-tools==1.34.1) (1.37.1)\n",
            "Requirement already satisfied: six>=1.5.2 in /usr/local/lib/python3.7/dist-packages (from grpcio>=1.34.1->grpcio-tools==1.34.1) (1.15.0)\n",
            "Collecting git+https://github.com/deepset-ai/haystack.git\n",
            "  Cloning https://github.com/deepset-ai/haystack.git to /tmp/pip-req-build-2gtqgtm9\n",
            "  Running command git clone -q https://github.com/deepset-ai/haystack.git /tmp/pip-req-build-2gtqgtm9\n",
            "Requirement already satisfied: farm==0.8.0 in /usr/local/lib/python3.7/dist-packages (from farm-haystack==0.9.0) (0.8.0)\n",
            "Requirement already satisfied: fastapi in /usr/local/lib/python3.7/dist-packages (from farm-haystack==0.9.0) (0.68.1)\n",
            "Requirement already satisfied: uvicorn in /usr/local/lib/python3.7/dist-packages (from farm-haystack==0.9.0) (0.15.0)\n",
            "Requirement already satisfied: gunicorn in /usr/local/lib/python3.7/dist-packages (from farm-haystack==0.9.0) (20.1.0)\n",
            "Requirement already satisfied: pandas in /usr/local/lib/python3.7/dist-packages (from farm-haystack==0.9.0) (1.1.5)\n",
            "Requirement already satisfied: sklearn in /usr/local/lib/python3.7/dist-packages (from farm-haystack==0.9.0) (0.0)\n",
            "Requirement already satisfied: elasticsearch<=7.10,>=7.7 in /usr/local/lib/python3.7/dist-packages (from farm-haystack==0.9.0) (7.10.0)\n",
            "Requirement already satisfied: elastic-apm in /usr/local/lib/python3.7/dist-packages (from farm-haystack==0.9.0) (6.4.0)\n",
            "Requirement already satisfied: tox in /usr/local/lib/python3.7/dist-packages (from farm-haystack==0.9.0) (3.24.3)\n",
            "Requirement already satisfied: coverage in /usr/local/lib/python3.7/dist-packages (from farm-haystack==0.9.0) (3.7.1)\n",
            "Requirement already satisfied: langdetect in /usr/local/lib/python3.7/dist-packages (from farm-haystack==0.9.0) (1.0.9)\n",
            "Requirement already satisfied: pytesseract==0.3.7 in /usr/local/lib/python3.7/dist-packages (from farm-haystack==0.9.0) (0.3.7)\n",
            "Requirement already satisfied: pillow==8.3.2 in /usr/local/lib/python3.7/dist-packages (from farm-haystack==0.9.0) (8.3.2)\n",
            "Requirement already satisfied: pdf2image==1.14.0 in /usr/local/lib/python3.7/dist-packages (from farm-haystack==0.9.0) (1.14.0)\n",
            "Requirement already satisfied: sentence-transformers>=0.4.0 in /usr/local/lib/python3.7/dist-packages (from farm-haystack==0.9.0) (2.0.0)\n",
            "Requirement already satisfied: python-multipart in /usr/local/lib/python3.7/dist-packages (from farm-haystack==0.9.0) (0.0.5)\n",
            "Requirement already satisfied: python-docx in /usr/local/lib/python3.7/dist-packages (from farm-haystack==0.9.0) (0.8.11)\n",
            "Requirement already satisfied: sqlalchemy>=1.4.2 in /usr/local/lib/python3.7/dist-packages (from farm-haystack==0.9.0) (1.4.22)\n",
            "Requirement already satisfied: sqlalchemy_utils in /usr/local/lib/python3.7/dist-packages (from farm-haystack==0.9.0) (0.37.8)\n",
            "Requirement already satisfied: faiss-cpu>=1.6.3 in /usr/local/lib/python3.7/dist-packages (from farm-haystack==0.9.0) (1.7.1.post2)\n",
            "Requirement already satisfied: tika in /usr/local/lib/python3.7/dist-packages (from farm-haystack==0.9.0) (1.24)\n",
            "Requirement already satisfied: httptools in /usr/local/lib/python3.7/dist-packages (from farm-haystack==0.9.0) (0.3.0)\n",
            "Requirement already satisfied: nltk in /usr/local/lib/python3.7/dist-packages (from farm-haystack==0.9.0) (3.2.5)\n",
            "Requirement already satisfied: more_itertools in /usr/local/lib/python3.7/dist-packages (from farm-haystack==0.9.0) (8.8.0)\n",
            "Requirement already satisfied: networkx in /usr/local/lib/python3.7/dist-packages (from farm-haystack==0.9.0) (2.6.2)\n",
            "Requirement already satisfied: pymilvus in /usr/local/lib/python3.7/dist-packages (from farm-haystack==0.9.0) (1.1.2)\n",
            "Requirement already satisfied: SPARQLWrapper in /usr/local/lib/python3.7/dist-packages (from farm-haystack==0.9.0) (1.8.5)\n",
            "Requirement already satisfied: mmh3 in /usr/local/lib/python3.7/dist-packages (from farm-haystack==0.9.0) (3.0.0)\n",
            "Requirement already satisfied: weaviate-client==2.5.0 in /usr/local/lib/python3.7/dist-packages (from farm-haystack==0.9.0) (2.5.0)\n",
            "Requirement already satisfied: ray==1.5.0 in /usr/local/lib/python3.7/dist-packages (from farm-haystack==0.9.0) (1.5.0)\n",
            "Requirement already satisfied: psycopg2-binary in /usr/local/lib/python3.7/dist-packages (from farm-haystack==0.9.0) (2.9.1)\n",
            "Requirement already satisfied: uvloop==0.14 in /usr/local/lib/python3.7/dist-packages (from farm-haystack==0.9.0) (0.14.0)\n",
            "Requirement already satisfied: scipy>=1.3.2 in /usr/local/lib/python3.7/dist-packages (from farm==0.8.0->farm-haystack==0.9.0) (1.4.1)\n",
            "Requirement already satisfied: seqeval in /usr/local/lib/python3.7/dist-packages (from farm==0.8.0->farm-haystack==0.9.0) (1.2.2)\n",
            "Requirement already satisfied: setuptools in /usr/local/lib/python3.7/dist-packages (from farm==0.8.0->farm-haystack==0.9.0) (57.4.0)\n",
            "Requirement already satisfied: flask-restplus in /usr/local/lib/python3.7/dist-packages (from farm==0.8.0->farm-haystack==0.9.0) (0.13.0)\n",
            "Requirement already satisfied: tqdm in /usr/local/lib/python3.7/dist-packages (from farm==0.8.0->farm-haystack==0.9.0) (4.62.0)\n",
            "Requirement already satisfied: boto3 in /usr/local/lib/python3.7/dist-packages (from farm==0.8.0->farm-haystack==0.9.0) (1.18.40)\n",
            "Requirement already satisfied: torch<1.9,>1.5 in /usr/local/lib/python3.7/dist-packages (from farm==0.8.0->farm-haystack==0.9.0) (1.8.1)\n",
            "Requirement already satisfied: Werkzeug==0.16.1 in /usr/local/lib/python3.7/dist-packages (from farm==0.8.0->farm-haystack==0.9.0) (0.16.1)\n",
            "Requirement already satisfied: requests in /usr/local/lib/python3.7/dist-packages (from farm==0.8.0->farm-haystack==0.9.0) (2.23.0)\n",
            "Requirement already satisfied: wheel in /usr/local/lib/python3.7/dist-packages (from farm==0.8.0->farm-haystack==0.9.0) (0.37.0)\n",
            "Requirement already satisfied: psutil in /usr/local/lib/python3.7/dist-packages (from farm==0.8.0->farm-haystack==0.9.0) (5.4.8)\n",
            "Requirement already satisfied: dotmap in /usr/local/lib/python3.7/dist-packages (from farm==0.8.0->farm-haystack==0.9.0) (1.3.24)\n",
            "Requirement already satisfied: mlflow<=1.13.1 in /usr/local/lib/python3.7/dist-packages (from farm==0.8.0->farm-haystack==0.9.0) (1.13.1)\n",
            "Requirement already satisfied: dill in /usr/local/lib/python3.7/dist-packages (from farm==0.8.0->farm-haystack==0.9.0) (0.3.4)\n",
            "Requirement already satisfied: transformers==4.6.1 in /usr/local/lib/python3.7/dist-packages (from farm==0.8.0->farm-haystack==0.9.0) (4.6.1)\n",
            "Requirement already satisfied: flask in /usr/local/lib/python3.7/dist-packages (from farm==0.8.0->farm-haystack==0.9.0) (1.1.4)\n",
            "Requirement already satisfied: flask-cors in /usr/local/lib/python3.7/dist-packages (from farm==0.8.0->farm-haystack==0.9.0) (3.0.10)\n",
            "Requirement already satisfied: sentencepiece in /usr/local/lib/python3.7/dist-packages (from farm==0.8.0->farm-haystack==0.9.0) (0.1.96)\n",
            "Requirement already satisfied: py-spy>=0.2.0 in /usr/local/lib/python3.7/dist-packages (from ray==1.5.0->farm-haystack==0.9.0) (0.3.9)\n",
            "Requirement already satisfied: protobuf>=3.15.3 in /usr/local/lib/python3.7/dist-packages (from ray==1.5.0->farm-haystack==0.9.0) (3.17.3)\n",
            "Requirement already satisfied: aiohttp-cors in /usr/local/lib/python3.7/dist-packages (from ray==1.5.0->farm-haystack==0.9.0) (0.7.0)\n",
            "Requirement already satisfied: opencensus in /usr/local/lib/python3.7/dist-packages (from ray==1.5.0->farm-haystack==0.9.0) (0.7.13)\n",
            "Requirement already satisfied: click>=7.0 in /usr/local/lib/python3.7/dist-packages (from ray==1.5.0->farm-haystack==0.9.0) (7.1.2)\n",
            "Requirement already satisfied: msgpack<2.0.0,>=1.0.0 in /usr/local/lib/python3.7/dist-packages (from ray==1.5.0->farm-haystack==0.9.0) (1.0.2)\n",
            "Requirement already satisfied: prometheus-client>=0.7.1 in /usr/local/lib/python3.7/dist-packages (from ray==1.5.0->farm-haystack==0.9.0) (0.11.0)\n",
            "Requirement already satisfied: colorama in /usr/local/lib/python3.7/dist-packages (from ray==1.5.0->farm-haystack==0.9.0) (0.4.4)\n",
            "Requirement already satisfied: aiohttp in /usr/local/lib/python3.7/dist-packages (from ray==1.5.0->farm-haystack==0.9.0) (3.7.4.post0)\n",
            "Requirement already satisfied: numpy>=1.16 in /usr/local/lib/python3.7/dist-packages (from ray==1.5.0->farm-haystack==0.9.0) (1.19.5)\n",
            "Requirement already satisfied: pydantic>=1.8 in /usr/local/lib/python3.7/dist-packages (from ray==1.5.0->farm-haystack==0.9.0) (1.8.2)\n",
            "Requirement already satisfied: grpcio>=1.28.1 in /usr/local/lib/python3.7/dist-packages (from ray==1.5.0->farm-haystack==0.9.0) (1.37.1)\n",
            "Requirement already satisfied: jsonschema in /usr/local/lib/python3.7/dist-packages (from ray==1.5.0->farm-haystack==0.9.0) (2.6.0)\n",
            "Requirement already satisfied: gpustat in /usr/local/lib/python3.7/dist-packages (from ray==1.5.0->farm-haystack==0.9.0) (0.6.0)\n",
            "Requirement already satisfied: filelock in /usr/local/lib/python3.7/dist-packages (from ray==1.5.0->farm-haystack==0.9.0) (3.0.12)\n",
            "Requirement already satisfied: pyyaml in /usr/local/lib/python3.7/dist-packages (from ray==1.5.0->farm-haystack==0.9.0) (3.13)\n",
            "Requirement already satisfied: redis>=3.5.0 in /usr/local/lib/python3.7/dist-packages (from ray==1.5.0->farm-haystack==0.9.0) (3.5.3)\n",
            "Requirement already satisfied: aioredis in /usr/local/lib/python3.7/dist-packages (from ray==1.5.0->farm-haystack==0.9.0) (2.0.0)\n",
            "Requirement already satisfied: packaging in /usr/local/lib/python3.7/dist-packages (from transformers==4.6.1->farm==0.8.0->farm-haystack==0.9.0) (21.0)\n",
            "Requirement already satisfied: sacremoses in /usr/local/lib/python3.7/dist-packages (from transformers==4.6.1->farm==0.8.0->farm-haystack==0.9.0) (0.0.45)\n",
            "Requirement already satisfied: huggingface-hub==0.0.8 in /usr/local/lib/python3.7/dist-packages (from transformers==4.6.1->farm==0.8.0->farm-haystack==0.9.0) (0.0.8)\n",
            "Requirement already satisfied: importlib-metadata in /usr/local/lib/python3.7/dist-packages (from transformers==4.6.1->farm==0.8.0->farm-haystack==0.9.0) (4.6.4)\n",
            "Requirement already satisfied: regex!=2019.12.17 in /usr/local/lib/python3.7/dist-packages (from transformers==4.6.1->farm==0.8.0->farm-haystack==0.9.0) (2019.12.20)\n",
            "Requirement already satisfied: tokenizers<0.11,>=0.10.1 in /usr/local/lib/python3.7/dist-packages (from transformers==4.6.1->farm==0.8.0->farm-haystack==0.9.0) (0.10.3)\n",
            "Requirement already satisfied: validators>=0.18.2 in /usr/local/lib/python3.7/dist-packages (from weaviate-client==2.5.0->farm-haystack==0.9.0) (0.18.2)\n",
            "Requirement already satisfied: urllib3<2,>=1.21.1 in /usr/local/lib/python3.7/dist-packages (from elasticsearch<=7.10,>=7.7->farm-haystack==0.9.0) (1.25.11)\n",
            "Requirement already satisfied: certifi in /usr/local/lib/python3.7/dist-packages (from elasticsearch<=7.10,>=7.7->farm-haystack==0.9.0) (2021.5.30)\n",
            "Requirement already satisfied: six>=1.5.2 in /usr/local/lib/python3.7/dist-packages (from grpcio>=1.28.1->ray==1.5.0->farm-haystack==0.9.0) (1.15.0)\n",
            "Requirement already satisfied: databricks-cli>=0.8.7 in /usr/local/lib/python3.7/dist-packages (from mlflow<=1.13.1->farm==0.8.0->farm-haystack==0.9.0) (0.15.0)\n",
            "Requirement already satisfied: cloudpickle in /usr/local/lib/python3.7/dist-packages (from mlflow<=1.13.1->farm==0.8.0->farm-haystack==0.9.0) (1.3.0)\n",
            "Requirement already satisfied: python-dateutil in /usr/local/lib/python3.7/dist-packages (from mlflow<=1.13.1->farm==0.8.0->farm-haystack==0.9.0) (2.8.2)\n",
            "Requirement already satisfied: alembic<=1.4.1 in /usr/local/lib/python3.7/dist-packages (from mlflow<=1.13.1->farm==0.8.0->farm-haystack==0.9.0) (1.4.1)\n",
            "Requirement already satisfied: sqlparse>=0.3.1 in /usr/local/lib/python3.7/dist-packages (from mlflow<=1.13.1->farm==0.8.0->farm-haystack==0.9.0) (0.4.1)\n",
            "Requirement already satisfied: entrypoints in /usr/local/lib/python3.7/dist-packages (from mlflow<=1.13.1->farm==0.8.0->farm-haystack==0.9.0) (0.3)\n",
            "Requirement already satisfied: querystring-parser in /usr/local/lib/python3.7/dist-packages (from mlflow<=1.13.1->farm==0.8.0->farm-haystack==0.9.0) (1.2.4)\n",
            "Requirement already satisfied: azure-storage-blob>=12.0.0 in /usr/local/lib/python3.7/dist-packages (from mlflow<=1.13.1->farm==0.8.0->farm-haystack==0.9.0) (12.8.1)\n",
            "Requirement already satisfied: docker>=4.0.0 in /usr/local/lib/python3.7/dist-packages (from mlflow<=1.13.1->farm==0.8.0->farm-haystack==0.9.0) (5.0.2)\n",
            "Requirement already satisfied: gitpython>=2.1.0 in /usr/local/lib/python3.7/dist-packages (from mlflow<=1.13.1->farm==0.8.0->farm-haystack==0.9.0) (3.1.18)\n",
            "Requirement already satisfied: prometheus-flask-exporter in /usr/local/lib/python3.7/dist-packages (from mlflow<=1.13.1->farm==0.8.0->farm-haystack==0.9.0) (0.18.2)\n",
            "Requirement already satisfied: Mako in /usr/local/lib/python3.7/dist-packages (from alembic<=1.4.1->mlflow<=1.13.1->farm==0.8.0->farm-haystack==0.9.0) (1.1.5)\n",
            "Requirement already satisfied: python-editor>=0.3 in /usr/local/lib/python3.7/dist-packages (from alembic<=1.4.1->mlflow<=1.13.1->farm==0.8.0->farm-haystack==0.9.0) (1.0.4)\n",
            "Requirement already satisfied: azure-core<2.0.0,>=1.10.0 in /usr/local/lib/python3.7/dist-packages (from azure-storage-blob>=12.0.0->mlflow<=1.13.1->farm==0.8.0->farm-haystack==0.9.0) (1.18.0)\n",
            "Requirement already satisfied: msrest>=0.6.18 in /usr/local/lib/python3.7/dist-packages (from azure-storage-blob>=12.0.0->mlflow<=1.13.1->farm==0.8.0->farm-haystack==0.9.0) (0.6.21)\n",
            "Requirement already satisfied: cryptography>=2.1.4 in /usr/local/lib/python3.7/dist-packages (from azure-storage-blob>=12.0.0->mlflow<=1.13.1->farm==0.8.0->farm-haystack==0.9.0) (3.4.8)\n",
            "Requirement already satisfied: cffi>=1.12 in /usr/local/lib/python3.7/dist-packages (from cryptography>=2.1.4->azure-storage-blob>=12.0.0->mlflow<=1.13.1->farm==0.8.0->farm-haystack==0.9.0) (1.14.6)\n",
            "Requirement already satisfied: pycparser in /usr/local/lib/python3.7/dist-packages (from cffi>=1.12->cryptography>=2.1.4->azure-storage-blob>=12.0.0->mlflow<=1.13.1->farm==0.8.0->farm-haystack==0.9.0) (2.20)\n",
            "Requirement already satisfied: tabulate>=0.7.7 in /usr/local/lib/python3.7/dist-packages (from databricks-cli>=0.8.7->mlflow<=1.13.1->farm==0.8.0->farm-haystack==0.9.0) (0.8.9)\n",
            "Requirement already satisfied: websocket-client>=0.32.0 in /usr/local/lib/python3.7/dist-packages (from docker>=4.0.0->mlflow<=1.13.1->farm==0.8.0->farm-haystack==0.9.0) (1.2.1)\n",
            "Requirement already satisfied: gitdb<5,>=4.0.1 in /usr/local/lib/python3.7/dist-packages (from gitpython>=2.1.0->mlflow<=1.13.1->farm==0.8.0->farm-haystack==0.9.0) (4.0.7)\n",
            "Requirement already satisfied: typing-extensions>=3.7.4.0 in /usr/local/lib/python3.7/dist-packages (from gitpython>=2.1.0->mlflow<=1.13.1->farm==0.8.0->farm-haystack==0.9.0) (3.7.4.3)\n",
            "Requirement already satisfied: smmap<5,>=3.0.1 in /usr/local/lib/python3.7/dist-packages (from gitdb<5,>=4.0.1->gitpython>=2.1.0->mlflow<=1.13.1->farm==0.8.0->farm-haystack==0.9.0) (4.0.0)\n",
            "Requirement already satisfied: requests-oauthlib>=0.5.0 in /usr/local/lib/python3.7/dist-packages (from msrest>=0.6.18->azure-storage-blob>=12.0.0->mlflow<=1.13.1->farm==0.8.0->farm-haystack==0.9.0) (1.3.0)\n",
            "Requirement already satisfied: isodate>=0.6.0 in /usr/local/lib/python3.7/dist-packages (from msrest>=0.6.18->azure-storage-blob>=12.0.0->mlflow<=1.13.1->farm==0.8.0->farm-haystack==0.9.0) (0.6.0)\n",
            "Requirement already satisfied: chardet<4,>=3.0.2 in /usr/local/lib/python3.7/dist-packages (from requests->farm==0.8.0->farm-haystack==0.9.0) (3.0.4)\n",
            "Requirement already satisfied: idna<3,>=2.5 in /usr/local/lib/python3.7/dist-packages (from requests->farm==0.8.0->farm-haystack==0.9.0) (2.10)\n",
            "Requirement already satisfied: oauthlib>=3.0.0 in /usr/local/lib/python3.7/dist-packages (from requests-oauthlib>=0.5.0->msrest>=0.6.18->azure-storage-blob>=12.0.0->mlflow<=1.13.1->farm==0.8.0->farm-haystack==0.9.0) (3.1.1)\n",
            "Requirement already satisfied: scikit-learn in /usr/local/lib/python3.7/dist-packages (from sentence-transformers>=0.4.0->farm-haystack==0.9.0) (0.22.2.post1)\n",
            "Requirement already satisfied: torchvision in /usr/local/lib/python3.7/dist-packages (from sentence-transformers>=0.4.0->farm-haystack==0.9.0) (0.9.1)\n",
            "Requirement already satisfied: greenlet!=0.4.17 in /usr/local/lib/python3.7/dist-packages (from sqlalchemy>=1.4.2->farm-haystack==0.9.0) (1.1.1)\n",
            "Requirement already satisfied: decorator>=3.4.0 in /usr/local/lib/python3.7/dist-packages (from validators>=0.18.2->weaviate-client==2.5.0->farm-haystack==0.9.0) (4.4.2)\n",
            "Requirement already satisfied: attrs>=17.3.0 in /usr/local/lib/python3.7/dist-packages (from aiohttp->ray==1.5.0->farm-haystack==0.9.0) (21.2.0)\n",
            "Requirement already satisfied: multidict<7.0,>=4.5 in /usr/local/lib/python3.7/dist-packages (from aiohttp->ray==1.5.0->farm-haystack==0.9.0) (5.1.0)\n",
            "Requirement already satisfied: yarl<2.0,>=1.0 in /usr/local/lib/python3.7/dist-packages (from aiohttp->ray==1.5.0->farm-haystack==0.9.0) (1.6.3)\n",
            "Requirement already satisfied: async-timeout<4.0,>=3.0 in /usr/local/lib/python3.7/dist-packages (from aiohttp->ray==1.5.0->farm-haystack==0.9.0) (3.0.1)\n",
            "Requirement already satisfied: botocore<1.22.0,>=1.21.40 in /usr/local/lib/python3.7/dist-packages (from boto3->farm==0.8.0->farm-haystack==0.9.0) (1.21.40)\n",
            "Requirement already satisfied: s3transfer<0.6.0,>=0.5.0 in /usr/local/lib/python3.7/dist-packages (from boto3->farm==0.8.0->farm-haystack==0.9.0) (0.5.0)\n",
            "Requirement already satisfied: jmespath<1.0.0,>=0.7.1 in /usr/local/lib/python3.7/dist-packages (from boto3->farm==0.8.0->farm-haystack==0.9.0) (0.10.0)\n",
            "Requirement already satisfied: starlette==0.14.2 in /usr/local/lib/python3.7/dist-packages (from fastapi->farm-haystack==0.9.0) (0.14.2)\n",
            "Requirement already satisfied: itsdangerous<2.0,>=0.24 in /usr/local/lib/python3.7/dist-packages (from flask->farm==0.8.0->farm-haystack==0.9.0) (1.1.0)\n",
            "Requirement already satisfied: Jinja2<3.0,>=2.10.1 in /usr/local/lib/python3.7/dist-packages (from flask->farm==0.8.0->farm-haystack==0.9.0) (2.11.3)\n",
            "Requirement already satisfied: MarkupSafe>=0.23 in /usr/local/lib/python3.7/dist-packages (from Jinja2<3.0,>=2.10.1->flask->farm==0.8.0->farm-haystack==0.9.0) (2.0.1)\n",
            "Requirement already satisfied: aniso8601>=0.82 in /usr/local/lib/python3.7/dist-packages (from flask-restplus->farm==0.8.0->farm-haystack==0.9.0) (9.0.1)\n",
            "Requirement already satisfied: pytz in /usr/local/lib/python3.7/dist-packages (from flask-restplus->farm==0.8.0->farm-haystack==0.9.0) (2018.9)\n",
            "Requirement already satisfied: nvidia-ml-py3>=7.352.0 in /usr/local/lib/python3.7/dist-packages (from gpustat->ray==1.5.0->farm-haystack==0.9.0) (7.352.0)\n",
            "Requirement already satisfied: blessings>=1.6 in /usr/local/lib/python3.7/dist-packages (from gpustat->ray==1.5.0->farm-haystack==0.9.0) (1.7)\n",
            "Requirement already satisfied: zipp>=0.5 in /usr/local/lib/python3.7/dist-packages (from importlib-metadata->transformers==4.6.1->farm==0.8.0->farm-haystack==0.9.0) (3.5.0)\n",
            "Requirement already satisfied: opencensus-context==0.1.2 in /usr/local/lib/python3.7/dist-packages (from opencensus->ray==1.5.0->farm-haystack==0.9.0) (0.1.2)\n",
            "Requirement already satisfied: google-api-core<2.0.0,>=1.0.0 in /usr/local/lib/python3.7/dist-packages (from opencensus->ray==1.5.0->farm-haystack==0.9.0) (1.26.3)\n",
            "Requirement already satisfied: googleapis-common-protos<2.0dev,>=1.6.0 in /usr/local/lib/python3.7/dist-packages (from google-api-core<2.0.0,>=1.0.0->opencensus->ray==1.5.0->farm-haystack==0.9.0) (1.53.0)\n",
            "Requirement already satisfied: google-auth<2.0dev,>=1.21.1 in /usr/local/lib/python3.7/dist-packages (from google-api-core<2.0.0,>=1.0.0->opencensus->ray==1.5.0->farm-haystack==0.9.0) (1.34.0)\n",
            "Requirement already satisfied: cachetools<5.0,>=2.0.0 in /usr/local/lib/python3.7/dist-packages (from google-auth<2.0dev,>=1.21.1->google-api-core<2.0.0,>=1.0.0->opencensus->ray==1.5.0->farm-haystack==0.9.0) (4.2.2)\n",
            "Requirement already satisfied: rsa<5,>=3.1.4 in /usr/local/lib/python3.7/dist-packages (from google-auth<2.0dev,>=1.21.1->google-api-core<2.0.0,>=1.0.0->opencensus->ray==1.5.0->farm-haystack==0.9.0) (4.7.2)\n",
            "Requirement already satisfied: pyasn1-modules>=0.2.1 in /usr/local/lib/python3.7/dist-packages (from google-auth<2.0dev,>=1.21.1->google-api-core<2.0.0,>=1.0.0->opencensus->ray==1.5.0->farm-haystack==0.9.0) (0.2.8)\n",
            "Requirement already satisfied: pyparsing>=2.0.2 in /usr/local/lib/python3.7/dist-packages (from packaging->transformers==4.6.1->farm==0.8.0->farm-haystack==0.9.0) (2.4.7)\n",
            "Requirement already satisfied: pyasn1<0.5.0,>=0.4.6 in /usr/local/lib/python3.7/dist-packages (from pyasn1-modules>=0.2.1->google-auth<2.0dev,>=1.21.1->google-api-core<2.0.0,>=1.0.0->opencensus->ray==1.5.0->farm-haystack==0.9.0) (0.4.8)\n",
            "Requirement already satisfied: grpcio-tools<1.38.0,>=1.22.0 in /usr/local/lib/python3.7/dist-packages (from pymilvus->farm-haystack==0.9.0) (1.34.1)\n",
            "Requirement already satisfied: ujson>=2.0.0 in /usr/local/lib/python3.7/dist-packages (from pymilvus->farm-haystack==0.9.0) (4.1.0)\n",
            "Requirement already satisfied: lxml>=2.3.2 in /usr/local/lib/python3.7/dist-packages (from python-docx->farm-haystack==0.9.0) (4.2.6)\n",
            "Requirement already satisfied: joblib in /usr/local/lib/python3.7/dist-packages (from sacremoses->transformers==4.6.1->farm==0.8.0->farm-haystack==0.9.0) (1.0.1)\n",
            "Requirement already satisfied: rdflib>=4.0 in /usr/local/lib/python3.7/dist-packages (from SPARQLWrapper->farm-haystack==0.9.0) (6.0.0)\n",
            "Requirement already satisfied: pluggy>=0.12.0 in /usr/local/lib/python3.7/dist-packages (from tox->farm-haystack==0.9.0) (1.0.0)\n",
            "Requirement already satisfied: py>=1.4.17 in /usr/local/lib/python3.7/dist-packages (from tox->farm-haystack==0.9.0) (1.10.0)\n",
            "Requirement already satisfied: toml>=0.9.4 in /usr/local/lib/python3.7/dist-packages (from tox->farm-haystack==0.9.0) (0.10.2)\n",
            "Requirement already satisfied: virtualenv!=20.0.0,!=20.0.1,!=20.0.2,!=20.0.3,!=20.0.4,!=20.0.5,!=20.0.6,!=20.0.7,>=16.0.0 in /usr/local/lib/python3.7/dist-packages (from tox->farm-haystack==0.9.0) (20.7.2)\n",
            "Requirement already satisfied: distlib<1,>=0.3.1 in /usr/local/lib/python3.7/dist-packages (from virtualenv!=20.0.0,!=20.0.1,!=20.0.2,!=20.0.3,!=20.0.4,!=20.0.5,!=20.0.6,!=20.0.7,>=16.0.0->tox->farm-haystack==0.9.0) (0.3.2)\n",
            "Requirement already satisfied: backports.entry-points-selectable>=1.0.4 in /usr/local/lib/python3.7/dist-packages (from virtualenv!=20.0.0,!=20.0.1,!=20.0.2,!=20.0.3,!=20.0.4,!=20.0.5,!=20.0.6,!=20.0.7,>=16.0.0->tox->farm-haystack==0.9.0) (1.1.0)\n",
            "Requirement already satisfied: platformdirs<3,>=2 in /usr/local/lib/python3.7/dist-packages (from virtualenv!=20.0.0,!=20.0.1,!=20.0.2,!=20.0.3,!=20.0.4,!=20.0.5,!=20.0.6,!=20.0.7,>=16.0.0->tox->farm-haystack==0.9.0) (2.3.0)\n",
            "Requirement already satisfied: h11>=0.8 in /usr/local/lib/python3.7/dist-packages (from uvicorn->farm-haystack==0.9.0) (0.12.0)\n",
            "Requirement already satisfied: asgiref>=3.4.0 in /usr/local/lib/python3.7/dist-packages (from uvicorn->farm-haystack==0.9.0) (3.4.1)\n"
          ]
        }
      ]
    },
    {
      "cell_type": "code",
      "metadata": {
        "id": "PHT-4RY4zjb2",
        "outputId": "bfaff1ab-9090-4bba-f554-83a56e39204e",
        "colab": {
          "base_uri": "https://localhost:8080/"
        }
      },
      "source": [
        "from haystack.preprocessor.cleaning import clean_wiki_text\n",
        "from haystack.preprocessor.utils import convert_files_to_dicts, fetch_archive_from_http\n",
        "from haystack.reader.farm import FARMReader\n",
        "from haystack.reader.transformers import TransformersReader\n",
        "from haystack.utils import print_answers"
      ],
      "execution_count": 2,
      "outputs": [
        {
          "output_type": "stream",
          "name": "stderr",
          "text": [
            "/usr/local/lib/python3.7/dist-packages/ray/autoscaler/_private/cli_logger.py:61: FutureWarning: Not all Ray CLI dependencies were found. In Ray 1.4+, the Ray CLI, autoscaler, and dashboard will only be usable via `pip install 'ray[default]'`. Please update your install command.\n",
            "  \"update your install command.\", FutureWarning)\n"
          ]
        }
      ]
    },
    {
      "cell_type": "markdown",
      "metadata": {
        "id": "gvJNO8Bkzjb2"
      },
      "source": [
        "## Document Store\n",
        "\n",
        "Haystack finds answers to queries within the documents stored in a `DocumentStore`. The current implementations of `DocumentStore` include `ElasticsearchDocumentStore`, `FAISSDocumentStore`,  `SQLDocumentStore`, and `InMemoryDocumentStore`.\n",
        "\n",
        "**Here:** We recommended Elasticsearch as it comes preloaded with features like [full-text queries](https://www.elastic.co/guide/en/elasticsearch/reference/current/full-text-queries.html), [BM25 retrieval](https://www.elastic.co/elasticon/conf/2016/sf/improved-text-scoring-with-bm25), and [vector storage for text embeddings](https://www.elastic.co/guide/en/elasticsearch/reference/7.6/dense-vector.html).\n",
        "\n",
        "**Alternatives:** If you are unable to setup an Elasticsearch instance, then follow the [Tutorial 3](https://github.com/deepset-ai/haystack/blob/master/tutorials/Tutorial3_Basic_QA_Pipeline_without_Elasticsearch.ipynb) for using SQL/InMemory document stores.\n",
        "\n",
        "### Start an Elasticsearch server\n",
        "You can start Elasticsearch on your local machine instance using Docker. If Docker is not readily available in your environment (eg., in Colab notebooks), then you can manually download and execute Elasticsearch from source."
      ]
    },
    {
      "cell_type": "code",
      "metadata": {
        "id": "niYFRg6Tzjb3",
        "outputId": "fbc81b5b-6357-40cf-902d-6ef07dc078d5",
        "colab": {
          "base_uri": "https://localhost:8080/"
        }
      },
      "source": [
        "# Recommended: Start Elasticsearch using Docker via the Haystack utility function\n",
        "from haystack.utils import launch_es\n",
        "\n",
        "launch_es()"
      ],
      "execution_count": 3,
      "outputs": [
        {
          "output_type": "stream",
          "name": "stderr",
          "text": [
            "09/11/2021 22:00:33 - INFO - haystack.utils -   Starting Elasticsearch ...\n",
            "09/11/2021 22:00:33 - WARNING - haystack.utils -   Tried to start Elasticsearch through Docker but this failed. It is likely that there is already an existing Elasticsearch instance running. \n"
          ]
        }
      ]
    },
    {
      "cell_type": "code",
      "metadata": {
        "id": "pYruSzAGzjb4"
      },
      "source": [
        "# In Colab / No Docker environments: Start Elasticsearch from source\n",
        "! wget https://artifacts.elastic.co/downloads/elasticsearch/elasticsearch-7.9.2-linux-x86_64.tar.gz -q\n",
        "! tar -xzf elasticsearch-7.9.2-linux-x86_64.tar.gz\n",
        "! chown -R daemon:daemon elasticsearch-7.9.2\n",
        "\n",
        "import os\n",
        "from subprocess import Popen, PIPE, STDOUT\n",
        "es_server = Popen(['elasticsearch-7.9.2/bin/elasticsearch'],\n",
        "                   stdout=PIPE, stderr=STDOUT,\n",
        "                   preexec_fn=lambda: os.setuid(1)  # as daemon\n",
        "                  )\n",
        "# wait until ES has started\n",
        "! sleep 30"
      ],
      "execution_count": 4,
      "outputs": []
    },
    {
      "cell_type": "code",
      "metadata": {
        "pycharm": {
          "name": "#%%\n"
        },
        "id": "vSVulOhBzjb5",
        "outputId": "c70b380a-e388-4fef-dce9-ab3f9bb2eccf",
        "colab": {
          "base_uri": "https://localhost:8080/"
        }
      },
      "source": [
        "# Connect to Elasticsearch\n",
        "\n",
        "from haystack.document_store.elasticsearch import ElasticsearchDocumentStore\n",
        "document_store = ElasticsearchDocumentStore(host=\"localhost\", username=\"\", password=\"\", index=\"document\")"
      ],
      "execution_count": 5,
      "outputs": [
        {
          "output_type": "stream",
          "name": "stderr",
          "text": [
            "09/11/2021 22:01:58 - INFO - elasticsearch -   HEAD http://localhost:9200/ [status:200 request:0.101s]\n",
            "09/11/2021 22:01:58 - INFO - elasticsearch -   PUT http://localhost:9200/document [status:200 request:0.445s]\n",
            "09/11/2021 22:01:59 - INFO - elasticsearch -   PUT http://localhost:9200/label [status:200 request:0.276s]\n"
          ]
        }
      ]
    },
    {
      "cell_type": "markdown",
      "metadata": {
        "pycharm": {
          "name": "#%% md\n"
        },
        "id": "LUbCeDLZzjb6"
      },
      "source": [
        "## Preprocessing of documents\n",
        "\n",
        "Haystack provides a customizable pipeline for:\n",
        " - converting files into texts\n",
        " - cleaning texts\n",
        " - splitting texts\n",
        " - writing them to a Document Store\n",
        "\n",
        "In this tutorial, we download some public mu documents, apply a basic cleaning function, and index them in Elasticsearch."
      ]
    },
    {
      "cell_type": "code",
      "metadata": {
        "pycharm": {
          "name": "#%%\n"
        },
        "id": "3PzOJ2Ifzjb7",
        "outputId": "a1a5c58d-cb43-4246-f208-48869a25deeb",
        "colab": {
          "base_uri": "https://localhost:8080/"
        }
      },
      "source": [
        "# Let's first fetch some documents that we want to query\n",
        "# Here: 517 Wikipedia articles for Game of Thrones\n",
        "doc_dir = \"data/article_txt_got\"\n",
        "s3_url = \"https://s3.eu-central-1.amazonaws.com/deepset.ai-farm-qa/datasets/documents/wiki_gameofthrones_txt.zip\"\n",
        "fetch_archive_from_http(url=s3_url, output_dir=doc_dir)\n",
        "\n",
        "# Convert files to dicts\n",
        "# You can optionally supply a cleaning function that is applied to each doc (e.g. to remove footers)\n",
        "# It must take a str as input, and return a str.\n",
        "dicts = convert_files_to_dicts(dir_path=doc_dir, clean_func=clean_wiki_text, split_paragraphs=True)\n",
        "\n",
        "# We now have a list of dictionaries that we can write to our document store.\n",
        "# If your texts come from a different source (e.g. a DB), you can of course skip convert_files_to_dicts() and create the dictionaries yourself.\n",
        "# The default format here is:\n",
        "# {\n",
        "#    'text': \"<DOCUMENT_TEXT_HERE>\",\n",
        "#    'meta': {'name': \"<DOCUMENT_NAME_HERE>\", ...}\n",
        "#}\n",
        "# (Optionally: you can also add more key-value-pairs here, that will be indexed as fields in Elasticsearch and\n",
        "# can be accessed later for filtering or shown in the responses of the Pipeline)\n",
        "\n",
        "# Let's have a look at the first 3 entries:\n",
        "print(dicts[:3])\n",
        "\n",
        "# Now, let's write the dicts containing documents to our DB.\n",
        "document_store.write_documents(dicts)"
      ],
      "execution_count": 6,
      "outputs": [
        {
          "output_type": "stream",
          "name": "stderr",
          "text": [
            "09/11/2021 22:02:19 - INFO - haystack.preprocessor.utils -   Fetching from https://s3.eu-central-1.amazonaws.com/deepset.ai-farm-qa/datasets/documents/wiki_gameofthrones_txt.zip to `data/article_txt_got`\n",
            "100%|██████████| 1095120/1095120 [00:00<00:00, 15973855.57B/s]\n",
            "09/11/2021 22:02:19 - INFO - haystack.preprocessor.utils -   Converting data/article_txt_got/273_High_Sparrow.txt\n",
            "09/11/2021 22:02:19 - INFO - haystack.preprocessor.utils -   Converting data/article_txt_got/54_Two_Swords__Game_of_Thrones_.txt\n",
            "09/11/2021 22:02:19 - INFO - haystack.preprocessor.utils -   Converting data/article_txt_got/347_Game_of_Thrones__season_2_.txt\n",
            "09/11/2021 22:02:19 - INFO - haystack.preprocessor.utils -   Converting data/article_txt_got/191_Gendry.txt\n",
            "09/11/2021 22:02:19 - INFO - haystack.preprocessor.utils -   Converting data/article_txt_got/73_A_Man_Without_Honor.txt\n",
            "09/11/2021 22:02:19 - INFO - haystack.preprocessor.utils -   Converting data/article_txt_got/512_Home__Game_of_Thrones_.txt\n",
            "09/11/2021 22:02:19 - INFO - haystack.preprocessor.utils -   Converting data/article_txt_got/193_Lord_Snow.txt\n",
            "09/11/2021 22:02:19 - INFO - haystack.preprocessor.utils -   Converting data/article_txt_got/101_Titties_and_Dragons.txt\n",
            "09/11/2021 22:02:19 - INFO - haystack.preprocessor.utils -   Converting data/article_txt_got/395_Game_of_Thrones__season_5_.txt\n",
            "09/11/2021 22:02:19 - INFO - haystack.preprocessor.utils -   Converting data/article_txt_got/452_Fire_and_Blood__Game_of_Thrones_.txt\n",
            "09/11/2021 22:02:19 - INFO - haystack.preprocessor.utils -   Converting data/article_txt_got/146_The_Sons_of_the_Dragon.txt\n",
            "09/11/2021 22:02:19 - INFO - haystack.preprocessor.utils -   Converting data/article_txt_got/474_Bronn__character_.txt\n",
            "09/11/2021 22:02:19 - INFO - haystack.preprocessor.utils -   Converting data/article_txt_got/2_Stormborn.txt\n",
            "09/11/2021 22:02:19 - INFO - haystack.preprocessor.utils -   Converting data/article_txt_got/299_Rani_Mahal__TV_series_.txt\n",
            "09/11/2021 22:02:19 - INFO - haystack.preprocessor.utils -   Converting data/article_txt_got/453_Game_of_Thrones__2012_video_game_.txt\n",
            "09/11/2021 22:02:19 - INFO - haystack.preprocessor.utils -   Converting data/article_txt_got/224_The_Night_Lands.txt\n",
            "09/11/2021 22:02:19 - INFO - haystack.preprocessor.utils -   Converting data/article_txt_got/74_The_Prince_of_Winterfell.txt\n",
            "09/11/2021 22:02:19 - INFO - haystack.preprocessor.utils -   Converting data/article_txt_got/229_Game_of_Thrones.txt\n",
            "09/11/2021 22:02:19 - INFO - haystack.preprocessor.utils -   Converting data/article_txt_got/53_The_Lion_and_the_Rose.txt\n",
            "09/11/2021 22:02:19 - INFO - haystack.preprocessor.utils -   Converting data/article_txt_got/504_List_of_A_Song_of_Ice_and_Fire_video_games.txt\n",
            "09/11/2021 22:02:19 - INFO - haystack.preprocessor.utils -   Converting data/article_txt_got/485_Oathkeeper.txt\n",
            "09/11/2021 22:02:19 - INFO - haystack.preprocessor.utils -   Converting data/article_txt_got/373_Tywin_Lannister.txt\n",
            "09/11/2021 22:02:19 - INFO - haystack.preprocessor.utils -   Converting data/article_txt_got/85_Game_of_Thrones__Seven_Kingdoms.txt\n",
            "09/11/2021 22:02:19 - INFO - haystack.preprocessor.utils -   Converting data/article_txt_got/232_Tommen_Baratheon.txt\n",
            "09/11/2021 22:02:19 - INFO - haystack.preprocessor.utils -   Converting data/article_txt_got/67_Unbowed__Unbent__Unbroken.txt\n",
            "09/11/2021 22:02:19 - INFO - haystack.preprocessor.utils -   Converting data/article_txt_got/334_Rickon_Stark.txt\n",
            "09/11/2021 22:02:19 - INFO - haystack.preprocessor.utils -   Converting data/article_txt_got/442_Game_of_Thrones__season_1_.txt\n",
            "09/11/2021 22:02:19 - INFO - haystack.preprocessor.utils -   Converting data/article_txt_got/80_A_Song_of_Ice_and_Fire_fandom.txt\n",
            "09/11/2021 22:02:19 - INFO - haystack.preprocessor.utils -   Converting data/article_txt_got/136_Game_of_Thrones__Season_8__soundtrack_.txt\n",
            "09/11/2021 22:02:19 - INFO - haystack.preprocessor.utils -   Converting data/article_txt_got/477_A_Dance_with_Dragons.txt\n",
            "09/11/2021 22:02:19 - INFO - haystack.preprocessor.utils -   Converting data/article_txt_got/450_Baelor.txt\n",
            "09/11/2021 22:02:19 - INFO - haystack.preprocessor.utils -   Converting data/article_txt_got/396_Game_of_Thrones__season_6_.txt\n",
            "09/11/2021 22:02:19 - INFO - haystack.preprocessor.utils -   Converting data/article_txt_got/201_A_Game_of_Thrones__card_game_.txt\n",
            "09/11/2021 22:02:19 - INFO - haystack.preprocessor.utils -   Converting data/article_txt_got/332_Sansa_Stark.txt\n",
            "09/11/2021 22:02:19 - INFO - haystack.preprocessor.utils -   Converting data/article_txt_got/194_A_Song_of_Ice_and_Fire.txt\n",
            "09/11/2021 22:02:19 - INFO - haystack.preprocessor.utils -   Converting data/article_txt_got/408_The_Last_of_the_Starks.txt\n",
            "09/11/2021 22:02:19 - INFO - haystack.preprocessor.utils -   Converting data/article_txt_got/24_Game_of_Thrones__Season_1__soundtrack_.txt\n",
            "09/11/2021 22:02:19 - INFO - haystack.preprocessor.utils -   Converting data/article_txt_got/28_Jorah_Mormont.txt\n",
            "09/11/2021 22:02:19 - INFO - haystack.preprocessor.utils -   Converting data/article_txt_got/148_Game_of_Thrones__Winter_Is_Coming.txt\n",
            "09/11/2021 22:02:19 - INFO - haystack.preprocessor.utils -   Converting data/article_txt_got/446_A_Golden_Crown.txt\n",
            "09/11/2021 22:02:19 - INFO - haystack.preprocessor.utils -   Converting data/article_txt_got/87_Valar_Dohaeris.txt\n",
            "09/11/2021 22:02:19 - INFO - haystack.preprocessor.utils -   Converting data/article_txt_got/513_Oathbreaker__Game_of_Thrones_.txt\n",
            "09/11/2021 22:02:19 - INFO - haystack.preprocessor.utils -   Converting data/article_txt_got/217_The_Rogue_Prince.txt\n",
            "09/11/2021 22:02:19 - INFO - haystack.preprocessor.utils -   Converting data/article_txt_got/131_Mhysa.txt\n",
            "09/11/2021 22:02:19 - INFO - haystack.preprocessor.utils -   Converting data/article_txt_got/26_Game_of_Thrones__Season_3__soundtrack_.txt\n",
            "09/11/2021 22:02:19 - INFO - haystack.preprocessor.utils -   Converting data/article_txt_got/508_A_Game_of_Thrones__Second_Edition__card_game_.txt\n",
            "09/11/2021 22:02:19 - INFO - haystack.preprocessor.utils -   Converting data/article_txt_got/481_Sandor_Clegane.txt\n",
            "09/11/2021 22:02:19 - INFO - haystack.preprocessor.utils -   Converting data/article_txt_got/52_Catch_the_Throne.txt\n",
            "09/11/2021 22:02:19 - INFO - haystack.preprocessor.utils -   Converting data/article_txt_got/345_A_Game_of_Thrones__comics_.txt\n",
            "09/11/2021 22:02:19 - INFO - haystack.preprocessor.utils -   Converting data/article_txt_got/304_Hardhome.txt\n",
            "09/11/2021 22:02:19 - INFO - haystack.preprocessor.utils -   Converting data/article_txt_got/210_The_Mountain_and_the_Viper.txt\n",
            "09/11/2021 22:02:19 - INFO - haystack.preprocessor.utils -   Converting data/article_txt_got/511_After_the_Thrones.txt\n",
            "09/11/2021 22:02:19 - INFO - haystack.preprocessor.utils -   Converting data/article_txt_got/84_List_of_awards_and_nominations_received_by_Game_of_Thrones.txt\n",
            "09/11/2021 22:02:19 - INFO - haystack.preprocessor.utils -   Converting data/article_txt_got/228_Souad_Faress.txt\n",
            "09/11/2021 22:02:19 - INFO - haystack.preprocessor.utils -   Converting data/article_txt_got/359_Kill_the_Boy.txt\n",
            "09/11/2021 22:02:19 - INFO - haystack.preprocessor.utils -   Converting data/article_txt_got/79_Thronecast.txt\n",
            "09/11/2021 22:02:19 - INFO - haystack.preprocessor.utils -   Converting data/article_txt_got/399_For_the_Throne__Music_Inspired_by_the_HBO_Series_Game_of_Thrones.txt\n",
            "09/11/2021 22:02:19 - INFO - haystack.preprocessor.utils -   Converting data/article_txt_got/425_No_One__Game_of_Thrones_.txt\n",
            "09/11/2021 22:02:19 - INFO - haystack.preprocessor.utils -   Converting data/article_txt_got/424_Night_King.txt\n",
            "09/11/2021 22:02:19 - INFO - haystack.preprocessor.utils -   Converting data/article_txt_got/40_Stannis_Baratheon.txt\n",
            "09/11/2021 22:02:19 - INFO - haystack.preprocessor.utils -   Converting data/article_txt_got/365_A_Song_of_Ice_and_Fire_Roleplaying.txt\n",
            "09/11/2021 22:02:19 - INFO - haystack.preprocessor.utils -   Converting data/article_txt_got/317_The_Broken_Man.txt\n",
            "09/11/2021 22:02:19 - INFO - haystack.preprocessor.utils -   Converting data/article_txt_got/340_Roose_Bolton.txt\n",
            "09/11/2021 22:02:19 - INFO - haystack.preprocessor.utils -   Converting data/article_txt_got/420_Blood_of_My_Blood.txt\n",
            "09/11/2021 22:02:19 - INFO - haystack.preprocessor.utils -   Converting data/article_txt_got/97_Tyrion_Lannister.txt\n",
            "09/11/2021 22:02:20 - INFO - haystack.preprocessor.utils -   Converting data/article_txt_got/394_Game_of_Thrones__2014_video_game_.txt\n",
            "09/11/2021 22:02:20 - INFO - haystack.preprocessor.utils -   Converting data/article_txt_got/403_Jenny_of_Oldstones.txt\n",
            "09/11/2021 22:02:20 - INFO - haystack.preprocessor.utils -   Converting data/article_txt_got/78_The_Rains_of_Castamere.txt\n",
            "09/11/2021 22:02:20 - INFO - haystack.preprocessor.utils -   Converting data/article_txt_got/330_Oberyn_Martell.txt\n",
            "09/11/2021 22:02:20 - INFO - haystack.preprocessor.utils -   Converting data/article_txt_got/371_Cersei_Lannister.txt\n",
            "09/11/2021 22:02:20 - INFO - haystack.preprocessor.utils -   Converting data/article_txt_got/454_Music_of_Game_of_Thrones.txt\n",
            "09/11/2021 22:02:20 - INFO - haystack.preprocessor.utils -   Converting data/article_txt_got/482_Petyr_Baelish.txt\n",
            "09/11/2021 22:02:20 - INFO - haystack.preprocessor.utils -   Converting data/article_txt_got/444_Cripples__Bastards__and_Broken_Things.txt\n",
            "09/11/2021 22:02:20 - INFO - haystack.preprocessor.utils -   Converting data/article_txt_got/368_Jaime_Lannister.txt\n",
            "09/11/2021 22:02:20 - INFO - haystack.preprocessor.utils -   Converting data/article_txt_got/233_Myrcella_Baratheon.txt\n",
            "09/11/2021 22:02:20 - INFO - haystack.preprocessor.utils -   Converting data/article_txt_got/211_The_Watchers_on_the_Wall.txt\n",
            "09/11/2021 22:02:20 - INFO - haystack.preprocessor.utils -   Converting data/article_txt_got/199_A_Storm_of_Swords.txt\n",
            "09/11/2021 22:02:20 - INFO - haystack.preprocessor.utils -   Converting data/article_txt_got/8_Eastwatch.txt\n",
            "09/11/2021 22:02:20 - INFO - haystack.preprocessor.utils -   Converting data/article_txt_got/3_The_Queen_s_Justice.txt\n",
            "09/11/2021 22:02:20 - INFO - haystack.preprocessor.utils -   Converting data/article_txt_got/487_Ramsay_Bolton.txt\n",
            "09/11/2021 22:02:20 - INFO - haystack.preprocessor.utils -   Converting data/article_txt_got/22_The_Rains_of_Castamere__song_.txt\n",
            "09/11/2021 22:02:20 - INFO - haystack.preprocessor.utils -   Converting data/article_txt_got/25_Game_of_Thrones__Season_2__soundtrack_.txt\n",
            "09/11/2021 22:02:20 - INFO - haystack.preprocessor.utils -   Converting data/article_txt_got/349_List_of_Game_of_Thrones_characters.txt\n",
            "09/11/2021 22:02:20 - INFO - haystack.preprocessor.utils -   Converting data/article_txt_got/86_Game_of_Thrones__season_4_.txt\n",
            "09/11/2021 22:02:20 - INFO - haystack.preprocessor.utils -   Converting data/article_txt_got/27_Game_of_Thrones__Season_4__soundtrack_.txt\n",
            "09/11/2021 22:02:20 - INFO - haystack.preprocessor.utils -   Converting data/article_txt_got/435_White_Walker.txt\n",
            "09/11/2021 22:02:20 - INFO - haystack.preprocessor.utils -   Converting data/article_txt_got/133_Game_of_Thrones__Season_5__soundtrack_.txt\n",
            "09/11/2021 22:02:20 - INFO - haystack.preprocessor.utils -   Converting data/article_txt_got/33_David_Benioff.txt\n",
            "09/11/2021 22:02:20 - INFO - haystack.preprocessor.utils -   Converting data/article_txt_got/488_Brienne_of_Tarth.txt\n",
            "09/11/2021 22:02:20 - INFO - haystack.preprocessor.utils -   Converting data/article_txt_got/360_List_of_Game_of_Thrones_episodes.txt\n",
            "09/11/2021 22:02:20 - INFO - haystack.preprocessor.utils -   Converting data/article_txt_got/343_Catelyn_Stark.txt\n",
            "09/11/2021 22:02:20 - INFO - haystack.preprocessor.utils -   Converting data/article_txt_got/119_Walk_of_Punishment.txt\n",
            "09/11/2021 22:02:20 - INFO - haystack.preprocessor.utils -   Converting data/article_txt_got/469_Outline_of_A_Song_of_Ice_and_Fire_franchise.txt\n",
            "09/11/2021 22:02:20 - INFO - haystack.preprocessor.utils -   Converting data/article_txt_got/407_The_Long_Night__Game_of_Thrones_.txt\n",
            "09/11/2021 22:02:20 - INFO - haystack.preprocessor.utils -   Converting data/article_txt_got/369_Samwell_Tarly.txt\n",
            "09/11/2021 22:02:20 - INFO - haystack.preprocessor.utils -   Converting data/article_txt_got/68_The_Gift__Game_of_Thrones_.txt\n",
            "09/11/2021 22:02:20 - INFO - haystack.preprocessor.utils -   Converting data/article_txt_got/0_Game_of_Thrones__season_8_.txt\n",
            "09/11/2021 22:02:20 - INFO - haystack.preprocessor.utils -   Converting data/article_txt_got/118_Dark_Wings__Dark_Words.txt\n",
            "09/11/2021 22:02:20 - INFO - haystack.preprocessor.utils -   Converting data/article_txt_got/126_Kissed_by_Fire.txt\n",
            "09/11/2021 22:02:20 - INFO - haystack.preprocessor.utils -   Converting data/article_txt_got/145_Elio_M._García_Jr._and_Linda_Antonsson.txt\n",
            "09/11/2021 22:02:20 - INFO - haystack.preprocessor.utils -   Converting data/article_txt_got/515_The_Door__Game_of_Thrones_.txt\n",
            "09/11/2021 22:02:20 - INFO - haystack.preprocessor.utils -   Converting data/article_txt_got/263_Tormund_Giantsbane.txt\n",
            "09/11/2021 22:02:20 - INFO - haystack.preprocessor.utils -   Converting data/article_txt_got/77_Game_of_Thrones_Ascent.txt\n",
            "09/11/2021 22:02:20 - INFO - haystack.preprocessor.utils -   Converting data/article_txt_got/30_List_of_A_Song_of_Ice_and_Fire_characters.txt\n",
            "09/11/2021 22:02:20 - INFO - haystack.preprocessor.utils -   Converting data/article_txt_got/461_The_Winds_of_Winter__Game_of_Thrones_.txt\n",
            "09/11/2021 22:02:20 - INFO - haystack.preprocessor.utils -   Converting data/article_txt_got/480_Varys.txt\n",
            "09/11/2021 22:02:20 - INFO - haystack.preprocessor.utils -   Converting data/article_txt_got/379_Davos_Seaworth.txt\n",
            "09/11/2021 22:02:20 - INFO - haystack.preprocessor.utils -   Converting data/article_txt_got/209_Mockingbird__Game_of_Thrones_.txt\n",
            "09/11/2021 22:02:20 - INFO - haystack.preprocessor.utils -   Converting data/article_txt_got/12_Fire.txt\n",
            "09/11/2021 22:02:20 - INFO - haystack.preprocessor.utils -   Converting data/article_txt_got/55_Breaker_of_Chains.txt\n",
            "09/11/2021 22:02:20 - INFO - haystack.preprocessor.utils -   Converting data/article_txt_got/75_Blackwater__Game_of_Thrones_.txt\n",
            "09/11/2021 22:02:20 - INFO - haystack.preprocessor.utils -   Converting data/article_txt_got/56_First_of_His_Name.txt\n",
            "09/11/2021 22:02:20 - INFO - haystack.preprocessor.utils -   Converting data/article_txt_got/195_World_of_A_Song_of_Ice_and_Fire.txt\n",
            "09/11/2021 22:02:20 - INFO - haystack.preprocessor.utils -   Converting data/article_txt_got/154_Margaery_Tyrell.txt\n",
            "09/11/2021 22:02:20 - INFO - haystack.preprocessor.utils -   Converting data/article_txt_got/311_Game_of_Thrones__season_7_.txt\n",
            "09/11/2021 22:02:20 - INFO - haystack.preprocessor.utils -   Converting data/article_txt_got/212_The_Children__Game_of_Thrones_.txt\n",
            "09/11/2021 22:02:20 - INFO - haystack.preprocessor.utils -   Converting data/article_txt_got/43_Arya_Stark.txt\n",
            "09/11/2021 22:02:20 - INFO - haystack.preprocessor.utils -   Converting data/article_txt_got/134_Game_of_Thrones__Season_6__soundtrack_.txt\n",
            "09/11/2021 22:02:20 - INFO - haystack.preprocessor.utils -   Converting data/article_txt_got/342_Theon_Greyjoy.txt\n",
            "09/11/2021 22:02:20 - INFO - haystack.preprocessor.utils -   Converting data/article_txt_got/402_A_Knight_of_the_Seven_Kingdoms__Game_of_Thrones_.txt\n",
            "09/11/2021 22:02:20 - INFO - haystack.preprocessor.utils -   Converting data/article_txt_got/460_Battle_of_the_Bastards.txt\n",
            "09/11/2021 22:02:20 - INFO - haystack.preprocessor.utils -   Converting data/article_txt_got/37_Joffrey_Baratheon.txt\n",
            "09/11/2021 22:02:20 - INFO - haystack.preprocessor.utils -   Converting data/article_txt_got/127_The_Climb__Game_of_Thrones_.txt\n",
            "09/11/2021 22:02:20 - INFO - haystack.preprocessor.utils -   Converting data/article_txt_got/475_A_Game_of_Thrones__role-playing_game_.txt\n",
            "09/11/2021 22:02:20 - INFO - haystack.preprocessor.utils -   Converting data/article_txt_got/98_Black_Friday__South_Park_.txt\n",
            "09/11/2021 22:02:20 - INFO - haystack.preprocessor.utils -   Converting data/article_txt_got/449_The_Pointy_End.txt\n",
            "09/11/2021 22:02:20 - INFO - haystack.preprocessor.utils -   Converting data/article_txt_got/411_The_Iron_Throne__Game_of_Thrones_.txt\n",
            "09/11/2021 22:02:20 - INFO - haystack.preprocessor.utils -   Converting data/article_txt_got/160_Viserys_Targaryen.txt\n",
            "09/11/2021 22:02:20 - INFO - haystack.preprocessor.utils -   Converting data/article_txt_got/1_Dragonstone__Game_of_Thrones_episode_.txt\n",
            "09/11/2021 22:02:20 - INFO - haystack.preprocessor.utils -   Converting data/article_txt_got/400_Winterfell__Game_of_Thrones_episode_.txt\n",
            "09/11/2021 22:02:20 - INFO - haystack.preprocessor.utils -   Converting data/article_txt_got/362_Winter_Is_Coming.txt\n",
            "09/11/2021 22:02:20 - INFO - haystack.preprocessor.utils -   Converting data/article_txt_got/456_Works_based_on_A_Song_of_Ice_and_Fire.txt\n",
            "09/11/2021 22:02:20 - INFO - haystack.preprocessor.utils -   Converting data/article_txt_got/69_The_Red_Woman.txt\n",
            "09/11/2021 22:02:20 - INFO - haystack.preprocessor.utils -   Converting data/article_txt_got/213_Valyrian_languages.txt\n",
            "09/11/2021 22:02:20 - INFO - haystack.preprocessor.utils -   Converting data/article_txt_got/197_A_Game_of_Thrones.txt\n",
            "09/11/2021 22:02:20 - INFO - haystack.preprocessor.utils -   Converting data/article_txt_got/23_Game_of_Thrones_Live_Concert_Experience.txt\n",
            "09/11/2021 22:02:20 - INFO - haystack.preprocessor.utils -   Converting data/article_txt_got/44_Daenerys_Targaryen.txt\n",
            "09/11/2021 22:02:20 - INFO - haystack.preprocessor.utils -   Converting data/article_txt_got/10_Beyond_the_Wall__Game_of_Thrones_.txt\n",
            "09/11/2021 22:02:20 - INFO - haystack.preprocessor.utils -   Converting data/article_txt_got/21_The_Bear_and_the_Maiden_Fair__song_.txt\n",
            "09/11/2021 22:02:20 - INFO - haystack.preprocessor.utils -   Converting data/article_txt_got/120_And_Now_His_Watch_Is_Ended.txt\n",
            "09/11/2021 22:02:20 - INFO - haystack.preprocessor.utils -   Converting data/article_txt_got/198_A_Clash_of_Kings.txt\n",
            "09/11/2021 22:02:20 - INFO - haystack.preprocessor.utils -   Converting data/article_txt_got/57_The_Laws_of_Gods_and_Men.txt\n",
            "09/11/2021 22:02:20 - INFO - haystack.preprocessor.utils -   Converting data/article_txt_got/129_Second_Sons.txt\n",
            "09/11/2021 22:02:20 - INFO - haystack.preprocessor.utils -   Converting data/article_txt_got/378_A_Game_of_Thrones__board_game_.txt\n",
            "09/11/2021 22:02:20 - INFO - haystack.preprocessor.utils -   Converting data/article_txt_got/358_A_Game_of_Thrones__Genesis.txt\n",
            "09/11/2021 22:02:20 - INFO - haystack.preprocessor.utils -   Converting data/article_txt_got/11_The_Dragon_and_the_Wolf.txt\n",
            "09/11/2021 22:02:20 - INFO - haystack.preprocessor.utils -   Converting data/article_txt_got/7_The_Spoils_of_War__Game_of_Thrones_.txt\n",
            "09/11/2021 22:02:20 - INFO - haystack.preprocessor.utils -   Converting data/article_txt_got/218_Olenna_Tyrell.txt\n",
            "09/11/2021 22:02:20 - INFO - haystack.preprocessor.utils -   Converting data/article_txt_got/439_Melisandre.txt\n",
            "09/11/2021 22:02:20 - INFO - haystack.preprocessor.utils -   Converting data/article_txt_got/356_Tales_of_Dunk_and_Egg.txt\n",
            "09/11/2021 22:02:20 - INFO - haystack.preprocessor.utils -   Converting data/article_txt_got/99_A_Song_of_Ass_and_Fire.txt\n",
            "09/11/2021 22:02:20 - INFO - haystack.preprocessor.utils -   Converting data/article_txt_got/346_Ygritte.txt\n",
            "09/11/2021 22:02:20 - INFO - haystack.preprocessor.utils -   Converting data/article_txt_got/310_Mother_s_Mercy.txt\n",
            "09/11/2021 22:02:20 - INFO - haystack.preprocessor.utils -   Converting data/article_txt_got/410_The_Bells__Game_of_Thrones_.txt\n",
            "09/11/2021 22:02:20 - INFO - haystack.preprocessor.utils -   Converting data/article_txt_got/135_Game_of_Thrones__Season_7__soundtrack_.txt\n",
            "09/11/2021 22:02:20 - INFO - haystack.preprocessor.utils -   Converting data/article_txt_got/76_Valar_Morghulis.txt\n",
            "09/11/2021 22:02:20 - INFO - haystack.preprocessor.utils -   Converting data/article_txt_got/208_Robb_Stark.txt\n",
            "09/11/2021 22:02:20 - INFO - haystack.preprocessor.utils -   Converting data/article_txt_got/348_The_Winds_of_Winter.txt\n",
            "09/11/2021 22:02:20 - INFO - haystack.preprocessor.utils -   Converting data/article_txt_got/214_Dothraki_language.txt\n",
            "09/11/2021 22:02:20 - INFO - haystack.preprocessor.utils -   Converting data/article_txt_got/102_The_Princess_and_the_Queen.txt\n",
            "09/11/2021 22:02:20 - INFO - haystack.preprocessor.utils -   Converting data/article_txt_got/121_The_Bear_and_the_Maiden_Fair.txt\n",
            "09/11/2021 22:02:20 - INFO - haystack.preprocessor.utils -   Converting data/article_txt_got/9_Game_of_Thrones_Tapestry.txt\n",
            "09/11/2021 22:02:20 - INFO - haystack.preprocessor.utils -   Converting data/article_txt_got/367_Gregor_Clegane.txt\n",
            "09/11/2021 22:02:20 - INFO - haystack.preprocessor.utils -   Converting data/article_txt_got/331_Bran_Stark.txt\n",
            "09/11/2021 22:02:20 - INFO - haystack.preprocessor.utils -   Converting data/article_txt_got/443_The_Kingsroad.txt\n",
            "09/11/2021 22:02:20 - INFO - haystack.preprocessor.utils -   Converting data/article_txt_got/207_Jon_Snow__character_.txt\n",
            "09/11/2021 22:02:20 - INFO - haystack.preprocessor.utils -   Converting data/article_txt_got/341_Ned_Stark.txt\n",
            "09/11/2021 22:02:20 - INFO - haystack.preprocessor.utils -   Converting data/article_txt_got/151_Ellaria_Sand.txt\n",
            "09/11/2021 22:02:20 - INFO - haystack.preprocessor.utils -   Converting data/article_txt_got/306_The_Dance_of_Dragons.txt\n",
            "09/11/2021 22:02:20 - INFO - haystack.preprocessor.utils -   Converting data/article_txt_got/495_Hodor.txt\n",
            "09/11/2021 22:02:20 - INFO - haystack.preprocessor.utils -   Converting data/article_txt_got/262_Gilly__character_.txt\n",
            "09/11/2021 22:02:20 - INFO - haystack.preprocessor.utils -   Converting data/article_txt_got/20_Light_of_the_Seven.txt\n",
            "09/11/2021 22:02:20 - INFO - haystack.preprocessor.utils -   Converting data/article_txt_got/501_Khal_Drogo.txt\n",
            "09/11/2021 22:02:20 - INFO - haystack.preprocessor.utils -   Converting data/article_txt_got/130_Game_of_Thrones_title_sequence.txt\n",
            "09/11/2021 22:02:20 - INFO - haystack.preprocessor.utils -   Converting data/article_txt_got/506_Game_of_Thrones_Theme.txt\n",
            "09/11/2021 22:02:20 - INFO - haystack.preprocessor.utils -   Converting data/article_txt_got/401_Power_Is_Power.txt\n",
            "09/11/2021 22:02:20 - INFO - haystack.preprocessor.utils -   Converting data/article_txt_got/447_You_Win_or_You_Die.txt\n",
            "09/11/2021 22:02:20 - INFO - haystack.preprocessor.utils -   Converting data/article_txt_got/202_A_Feast_for_Crows.txt\n",
            "09/11/2021 22:02:20 - INFO - haystack.preprocessor.utils -   Converting data/article_txt_got/39_Renly_Baratheon.txt\n",
            "09/11/2021 22:02:20 - INFO - haystack.preprocessor.utils -   Converting data/article_txt_got/445_The_Wolf_and_the_Lion.txt\n",
            "09/11/2021 22:02:20 - INFO - haystack.preprocessor.utils -   Converting data/article_txt_got/51_Iron_Throne__A_Song_of_Ice_and_Fire_.txt\n",
            "09/11/2021 22:02:20 - INFO - haystack.preprocessor.utils -   Converting data/article_txt_got/514_Book_of_the_Stranger.txt\n",
            "09/11/2021 22:02:20 - INFO - haystack.preprocessor.utils -   Converting data/article_txt_got/329_Robert_Baratheon.txt\n"
          ]
        },
        {
          "output_type": "stream",
          "name": "stdout",
          "text": [
            "[{'text': \"'''The High Sparrow''' is a fictional character in the ''A Song of Ice and Fire'' series of high fantasy novels by American author George R. R. Martin and its television adaptation ''Game of Thrones''.\\nThe High Sparrow first appears in ''A Feast for Crows'' (2005) and subsequently appeared in Martin's ''A Dance with Dragons'' (2011). He is the de facto leader of the protest 'sparrow' movement that arises from the Faith of the Seven as a result of the carnage inflicted by the War of Five Kings. Although he appears to be humble and compassionate, his demeanor belies his shrewd and unrelenting fanaticism, which often borders on dangerous zealotry. He becomes of central importance to the shadow conflicts at court between Houses Lannister and Tyrell, and is open about his disgust with the corruption and impiety in the capital. His true name is unknown; his title was given mockingly by political opponents as a comparison to the formal leader of the Faith, the High Septon.\\nThe character is portrayed by Welsh actor Jonathan Pryce in the HBO television adaptation.\", 'meta': {'name': '273_High_Sparrow.txt'}}, {'text': '\\n==Character profile==\\nThe High Sparrow is a prominent member of the \"sparrows\", a religious movement formed during the War of the Five Kings, and a septon (priest) in the Faith of the Seven. He is a small, thin, hard-eyed, grey-haired old man with a heavily lined face.  He does not wear rich robes or any gold; instead, he wears a simple white wool tunic.\\nThe High Sparrow is not a point of view character in the novels, so his actions are witnessed and interpreted through the eyes of other people, such as Cersei Lannister. The High Sparrow is mostly a background character in the novels.', 'meta': {'name': '273_High_Sparrow.txt'}}, {'text': '\\n==== \\'\\'A Feast for Crows\\'\\' ====\\nIn the aftermath of the War of Five Kings, \"Sparrows\", religious folk seeking the protection of King Tommen Baratheon following a spate of atrocities committed against members of the Faith of the Seven, converge on King\\'s Landing. When the Most Devout convene to elect the new High Septon, the sparrows hijack the selection process and force the selection of their leader, who is dubbed the \"High Sparrow\" by the royal fool Moon Boy. Cersei Lannister permits the High Sparrow to re-establish the Faith Militant, the military arm of the Faith, in return for the Faith forgiving the Crown\\'s debt to it and blessing Tommen. The Faith Militant subsequently arrest Margaery Tyrell and several of her cousins when Cersei\\'s confidante Osney Kettleblack claims to having slept with the women. The High Sparrow is suspicious of Osney\\'s testimony (not unfairly, as Osney had been persuaded to perjure Margaery by Cersei to shore up her own power) and has him tortured until he confesses not only that Cersei arranged for his false testimony, but also that she ordered him to kill the previous High Septon. When Cersei visits the Great Sept of Baelor, the High Sparrow has her arrested and imprisoned.', 'meta': {'name': '273_High_Sparrow.txt'}}]\n"
          ]
        },
        {
          "output_type": "stream",
          "name": "stderr",
          "text": [
            "09/11/2021 22:02:23 - INFO - elasticsearch -   POST http://localhost:9200/_bulk?refresh=wait_for [status:200 request:2.058s]\n",
            "09/11/2021 22:02:24 - INFO - elasticsearch -   POST http://localhost:9200/_bulk?refresh=wait_for [status:200 request:1.111s]\n",
            "09/11/2021 22:02:25 - INFO - elasticsearch -   POST http://localhost:9200/_bulk?refresh=wait_for [status:200 request:1.089s]\n",
            "09/11/2021 22:02:26 - INFO - elasticsearch -   POST http://localhost:9200/_bulk?refresh=wait_for [status:200 request:1.078s]\n",
            "09/11/2021 22:02:27 - INFO - elasticsearch -   POST http://localhost:9200/_bulk?refresh=wait_for [status:200 request:1.076s]\n"
          ]
        }
      ]
    },
    {
      "cell_type": "markdown",
      "metadata": {
        "id": "c-KkYxf-zjb9"
      },
      "source": [
        "## Initalize Retriever, Reader,  & Pipeline\n",
        "\n",
        "### Retriever\n",
        "\n",
        "Retrievers help narrowing down the scope for the Reader to smaller units of text where a given question could be answered.\n",
        "They use some simple but fast algorithm.\n",
        "\n",
        "**Here:** We use Elasticsearch's default BM25 algorithm\n",
        "\n",
        "**Alternatives:**\n",
        "\n",
        "- Customize the `ElasticsearchRetriever`with custom queries (e.g. boosting) and filters\n",
        "- Use `TfidfRetriever` in combination with a SQL or InMemory Document store for simple prototyping and debugging\n",
        "- Use `EmbeddingRetriever` to find candidate documents based on the similarity of embeddings (e.g. created via Sentence-BERT)\n",
        "- Use `DensePassageRetriever` to use different embedding models for passage and query (see Tutorial 6)"
      ]
    },
    {
      "cell_type": "code",
      "metadata": {
        "id": "YK5nKLzHzjb-"
      },
      "source": [
        "from haystack.retriever.sparse import ElasticsearchRetriever\n",
        "retriever = ElasticsearchRetriever(document_store=document_store)"
      ],
      "execution_count": null,
      "outputs": []
    },
    {
      "cell_type": "code",
      "metadata": {
        "pycharm": {
          "is_executing": false,
          "name": "#%%\n"
        },
        "id": "cv_c9hawzjb-"
      },
      "source": [
        "# Alternative: An in-memory TfidfRetriever based on Pandas dataframes for building quick-prototypes with SQLite document store.\n",
        "\n",
        "# from haystack.retriever.sparse import TfidfRetriever\n",
        "# retriever = TfidfRetriever(document_store=document_store)"
      ],
      "execution_count": null,
      "outputs": []
    },
    {
      "cell_type": "markdown",
      "metadata": {
        "id": "s49mUny5zjb_"
      },
      "source": [
        "### Reader\n",
        "\n",
        "A Reader scans the texts returned by retrievers in detail and extracts the k best answers. They are based\n",
        "on powerful, but slower deep learning models.\n",
        "\n",
        "Haystack currently supports Readers based on the frameworks FARM and Transformers.\n",
        "With both you can either load a local model or one from Hugging Face's model hub (https://huggingface.co/models).\n",
        "\n",
        "**Here:** a medium sized RoBERTa QA model using a Reader based on FARM (https://huggingface.co/deepset/roberta-base-squad2)\n",
        "\n",
        "**Alternatives (Reader):** TransformersReader (leveraging the `pipeline` of the Transformers package)\n",
        "\n",
        "**Alternatives (Models):** e.g. \"distilbert-base-uncased-distilled-squad\" (fast) or \"deepset/bert-large-uncased-whole-word-masking-squad2\" (good accuracy)\n",
        "\n",
        "**Hint:** You can adjust the model to return \"no answer possible\" with the no_ans_boost. Higher values mean the model prefers \"no answer possible\"\n",
        "\n",
        "#### FARMReader"
      ]
    },
    {
      "cell_type": "code",
      "metadata": {
        "pycharm": {
          "is_executing": false
        },
        "id": "AXb-8gpSzjb_",
        "outputId": "19745c4e-8a35-4738-8ef2-36e9dcb38a98"
      },
      "source": [
        "# Load a  local model or any of the QA models on\n",
        "# Hugging Face's model hub (https://huggingface.co/models)\n",
        "\n",
        "reader = FARMReader(model_name_or_path=\"deepset/roberta-base-squad2\", use_gpu=True)"
      ],
      "execution_count": null,
      "outputs": [
        {
          "name": "stderr",
          "output_type": "stream",
          "text": [
            "04/28/2020 12:29:45 - INFO - farm.utils -   device: cpu n_gpu: 0, distributed training: False, automatic mixed precision training: None\n",
            "04/28/2020 12:29:45 - INFO - farm.infer -   Could not find `deepset/roberta-base-squad2` locally. Try to download from model hub ...\n",
            "04/28/2020 12:29:49 - WARNING - farm.modeling.language_model -   Could not automatically detect from language model name what language it is. \n",
            "\t We guess it's an *ENGLISH* model ... \n",
            "\t If not: Init the language model by supplying the 'language' param.\n",
            "04/28/2020 12:29:54 - WARNING - farm.modeling.prediction_head -   Some unused parameters are passed to the QuestionAnsweringHead. Might not be a problem. Params: {\"loss_ignore_index\": -1}\n",
            "04/28/2020 12:29:58 - INFO - farm.utils -   device: cpu n_gpu: 0, distributed training: False, automatic mixed precision training: None\n"
          ]
        }
      ]
    },
    {
      "cell_type": "markdown",
      "metadata": {
        "id": "1sh7DQdtzjcA"
      },
      "source": [
        "#### TransformersReader"
      ]
    },
    {
      "cell_type": "code",
      "metadata": {
        "id": "-tDw-tNMzjcA"
      },
      "source": [
        "# Alternative:\n",
        "# reader = TransformersReader(model_name_or_path=\"distilbert-base-uncased-distilled-squad\", tokenizer=\"distilbert-base-uncased\", use_gpu=-1)"
      ],
      "execution_count": null,
      "outputs": []
    },
    {
      "cell_type": "markdown",
      "metadata": {
        "id": "eKHp_WD9zjcA"
      },
      "source": [
        "### Pipeline\n",
        "\n",
        "With a Haystack `Pipeline` you can stick together your building blocks to a search pipeline.\n",
        "Under the hood, `Pipelines` are Directed Acyclic Graphs (DAGs) that you can easily customize for your own use cases.\n",
        "To speed things up, Haystack also comes with a few predefined Pipelines. One of them is the `ExtractiveQAPipeline` that combines a retriever and a reader to answer our questions.\n",
        "You can learn more about `Pipelines` in the [docs](https://haystack.deepset.ai/docs/latest/pipelinesmd)."
      ]
    },
    {
      "cell_type": "code",
      "metadata": {
        "pycharm": {
          "is_executing": false
        },
        "id": "23BjmN66zjcA"
      },
      "source": [
        "from haystack.pipeline import ExtractiveQAPipeline\n",
        "pipe = ExtractiveQAPipeline(reader, retriever)"
      ],
      "execution_count": null,
      "outputs": []
    },
    {
      "cell_type": "markdown",
      "metadata": {
        "id": "yLZpWbaczjcB"
      },
      "source": [
        "## Voilà! Ask a question!"
      ]
    },
    {
      "cell_type": "code",
      "metadata": {
        "id": "qul1tyXvzjcB",
        "outputId": "4a60c91c-78dd-4cdf-f0d0-405a1f2aebdc"
      },
      "source": [
        "# You can configure how many candidates the reader and retriever shall return\n",
        "# The higher the top_k, the better (but also the slower) your answers.\n",
        "prediction = pipe.run(\n",
        "    query=\"Who is the father of Arya Stark?\", params={\"Retriever\": {\"top_k\": 10}, \"Reader\": {\"top_k\": 5}}\n",
        ")"
      ],
      "execution_count": null,
      "outputs": [
        {
          "ename": "SyntaxError",
          "evalue": "invalid syntax (<ipython-input-1-da5c75822ce3>, line 3)",
          "output_type": "error",
          "traceback": [
            "\u001b[0;36m  File \u001b[0;32m\"<ipython-input-1-da5c75822ce3>\"\u001b[0;36m, line \u001b[0;32m3\u001b[0m\n\u001b[0;31m    prediction = pipe.run(query=\"Who is the father of Arya Stark?\", params={top_k_retriever=10, top_k_reader=5)\u001b[0m\n\u001b[0m                                                                                           ^\u001b[0m\n\u001b[0;31mSyntaxError\u001b[0m\u001b[0;31m:\u001b[0m invalid syntax\n"
          ]
        }
      ]
    },
    {
      "cell_type": "code",
      "metadata": {
        "id": "4_2iZu0gzjcC"
      },
      "source": [
        "# prediction = pipe.run(query=\"Who created the Dothraki vocabulary?\", params={\"Reader\": {\"top_k\": 5}})\n",
        "# prediction = pipe.run(query=\"Who is the sister of Sansa?\", params={\"Reader\": {\"top_k\": 5}})"
      ],
      "execution_count": null,
      "outputs": []
    },
    {
      "cell_type": "code",
      "metadata": {
        "pycharm": {
          "is_executing": false,
          "name": "#%%\n"
        },
        "id": "nvu9S7QZzjcC",
        "outputId": "a34eb54a-629d-49e9-f1ab-6c7a435bd762"
      },
      "source": [
        "print_answers(prediction, details=\"minimal\")"
      ],
      "execution_count": null,
      "outputs": [
        {
          "name": "stdout",
          "output_type": "stream",
          "text": [
            "[   {   'answer': 'Eddard',\n",
            "        'context': 's Nymeria after a legendary warrior queen. She travels '\n",
            "                   \"with her father, Eddard, to King's Landing when he is made \"\n",
            "                   'Hand of the King. Before she leaves,'},\n",
            "    {   'answer': 'Ned',\n",
            "        'context': 'girl disguised as a boy all along and is surprised to '\n",
            "                   \"learn she is Arya, Ned Stark's daughter. After the \"\n",
            "                   'Goldcloaks get help from Ser Amory Lorch and '},\n",
            "    {   'answer': 'Ned',\n",
            "        'context': 'in the television series.\\n'\n",
            "                   '\\n'\n",
            "                   '\\n'\n",
            "                   '====Season 1====\\n'\n",
            "                   'Arya accompanies her father Ned and her sister Sansa to '\n",
            "                   \"King's Landing. Before their departure, Arya's ha\"},\n",
            "    {   'answer': 'Balon Greyjoy',\n",
            "        'context': 'He sends Theon to the Iron Islands hoping to broker an '\n",
            "                   \"alliance with Balon Greyjoy, Theon's father. In exchange \"\n",
            "                   'for Greyjoy support, Robb as the King '},\n",
            "    {   'answer': 'Brynden Tully',\n",
            "        'context': 'o the weather. Sandor decides to instead take her to her '\n",
            "                   'great-uncle Brynden Tully. On their way to Riverrun, they '\n",
            "                   \"encounter two men on Arya's death l\"}]\n"
          ]
        }
      ]
    },
    {
      "cell_type": "markdown",
      "metadata": {
        "collapsed": false,
        "pycharm": {
          "name": "#%% md\n"
        },
        "id": "0OThXy1GzjcD"
      },
      "source": [
        "## About us\n",
        "\n",
        "This [Haystack](https://github.com/deepset-ai/haystack/) notebook was made with love by [deepset](https://deepset.ai/) in Berlin, Germany\n",
        "\n",
        "We bring NLP to the industry via open source!  \n",
        "Our focus: Industry specific language models & large scale QA systems.  \n",
        "  \n",
        "Some of our other work: \n",
        "- [German BERT](https://deepset.ai/german-bert)\n",
        "- [GermanQuAD and GermanDPR](https://deepset.ai/germanquad)\n",
        "- [FARM](https://github.com/deepset-ai/FARM)\n",
        "\n",
        "Get in touch:\n",
        "[Twitter](https://twitter.com/deepset_ai) | [LinkedIn](https://www.linkedin.com/company/deepset-ai/) | [Slack](https://haystack.deepset.ai/community/join) | [GitHub Discussions](https://github.com/deepset-ai/haystack/discussions) | [Website](https://deepset.ai)\n",
        "\n",
        "By the way: [we're hiring!](https://apply.workable.com/deepset/) \n"
      ]
    }
  ]
}